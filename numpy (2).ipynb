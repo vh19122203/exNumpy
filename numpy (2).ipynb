{
 "cells": [
  {
   "cell_type": "code",
   "execution_count": 34,
   "id": "f4091863-38ec-48ac-9b40-5a368dc5226b",
   "metadata": {},
   "outputs": [],
   "source": [
    "import numpy as np"
   ]
  },
  {
   "cell_type": "code",
   "execution_count": 8,
   "id": "9cf27166-19c1-4c9f-8c7a-a0bd244fed70",
   "metadata": {},
   "outputs": [
    {
     "name": "stdout",
     "output_type": "stream",
     "text": [
      "[3.0, 5.0, 9.0, 16.0, 25.0]\n"
     ]
    }
   ],
   "source": [
    "# ex 1\n",
    "numeros = [3, 5, 9, 16, 25]\n",
    "numeros_float = [float(num) for num in numeros]\n",
    "print(numeros_float)\n"
   ]
  },
  {
   "cell_type": "code",
   "execution_count": 37,
   "id": "580f3356-3f54-471f-a6b6-f25d29b20098",
   "metadata": {},
   "outputs": [
    {
     "name": "stdout",
     "output_type": "stream",
     "text": [
      "[1, -3, 8, 16]\n"
     ]
    }
   ],
   "source": [
    "# ex 2\n",
    "numeros = [1.2, -3.6, 8.99999, 16.1]\n",
    "\n",
    "numeros_int = [int(num) for num in numeros]\n",
    "\n",
    "print(numeros_int)"
   ]
  },
  {
   "cell_type": "code",
   "execution_count": 18,
   "id": "c3579af3-76cf-47e2-b39f-de3358044f29",
   "metadata": {},
   "outputs": [
    {
     "name": "stdout",
     "output_type": "stream",
     "text": [
      "[[0 0 0 0 0 0 0 0 0]\n",
      " [0 0 0 0 0 0 0 0 0]\n",
      " [0 0 0 0 0 0 0 0 0]]\n"
     ]
    }
   ],
   "source": [
    "# ex 3\n",
    "matrizz = np.zeros((3, 9), dtype=int)\n",
    "\n",
    "print(matrizz)"
   ]
  },
  {
   "cell_type": "code",
   "execution_count": 19,
   "id": "924c9bb5-2a9f-4c95-a6b1-4e692951225c",
   "metadata": {},
   "outputs": [
    {
     "name": "stdout",
     "output_type": "stream",
     "text": [
      "[[1 1 1 1 1 1 1]\n",
      " [1 1 1 1 1 1 1]\n",
      " [1 1 1 1 1 1 1]\n",
      " [1 1 1 1 1 1 1]\n",
      " [1 1 1 1 1 1 1]\n",
      " [1 1 1 1 1 1 1]]\n"
     ]
    }
   ],
   "source": [
    "# ex 4\n",
    "matriz = np.ones((6, 7), dtype=int)\n",
    "\n",
    "print(matriz)"
   ]
  },
  {
   "cell_type": "code",
   "execution_count": 20,
   "id": "01db93d9-9dd5-4c84-bdb1-15873f28c2dc",
   "metadata": {},
   "outputs": [
    {
     "name": "stdout",
     "output_type": "stream",
     "text": [
      "[[1 0 0 0]\n",
      " [0 1 0 0]\n",
      " [0 0 1 0]\n",
      " [0 0 0 1]]\n"
     ]
    }
   ],
   "source": [
    "# ex 5 \n",
    "matriz_identidade = np.eye(4, dtype=int)\n",
    "\n",
    "print(matriz_identidade)"
   ]
  },
  {
   "cell_type": "code",
   "execution_count": 21,
   "id": "5524d859-d051-4b23-b76e-5281d1339b5e",
   "metadata": {},
   "outputs": [
    {
     "name": "stdout",
     "output_type": "stream",
     "text": [
      "[0.103548   0.13199256 0.97563634 0.55998338 0.88483645]\n"
     ]
    }
   ],
   "source": [
    "# ex 6 \n",
    "array_aleatorio = np.random.rand(5)\n",
    "\n",
    "print(array_aleatorio)"
   ]
  },
  {
   "cell_type": "code",
   "execution_count": 22,
   "id": "8a2b0d32-e901-4203-a96a-fc4276b1d56e",
   "metadata": {},
   "outputs": [
    {
     "name": "stdout",
     "output_type": "stream",
     "text": [
      "[[1 2 5 1 5 3]\n",
      " [3 0 2 4 1 3]\n",
      " [1 0 5 5 4 5]]\n"
     ]
    }
   ],
   "source": [
    "# ex 7\n",
    "matriz_aleatoria = np.random.randint(0, 6, (3, 6))\n",
    "\n",
    "print(matriz_aleatoria)"
   ]
  },
  {
   "cell_type": "code",
   "execution_count": 23,
   "id": "cbc4c990-91a6-4acb-9ede-419cf405e6d4",
   "metadata": {},
   "outputs": [
    {
     "name": "stdout",
     "output_type": "stream",
     "text": [
      "O valor máximo da matriz é: 22\n"
     ]
    }
   ],
   "source": [
    "# ex 8 \n",
    "matriz = np.array([[4, 6, 8], [-4, 3, 2], [22, -15, 12]])\n",
    "\n",
    "\n",
    "valor_maximo = np.max(matriz)\n",
    "\n",
    "\n",
    "print(\"O valor máximo da matriz é:\", valor_maximo)"
   ]
  },
  {
   "cell_type": "code",
   "execution_count": 24,
   "id": "23ed8a1b-3243-47e2-a461-785fcc75b8cd",
   "metadata": {},
   "outputs": [
    {
     "name": "stdout",
     "output_type": "stream",
     "text": [
      "O valor mínimo da matriz é: -15\n"
     ]
    }
   ],
   "source": [
    "# ex 9\n",
    "matriz = np.array([[4, 6, 8], [-4, 3, 2], [22, -15, 12]])\n",
    "\n",
    "\n",
    "valor_minimo = np.min(matriz)\n",
    "\n",
    "\n",
    "print(\"O valor mínimo da matriz é:\", valor_minimo)"
   ]
  },
  {
   "cell_type": "code",
   "execution_count": 25,
   "id": "9cb42ec2-9ecc-478d-8fb2-5753a8364bac",
   "metadata": {},
   "outputs": [
    {
     "name": "stdout",
     "output_type": "stream",
     "text": [
      "A soma dos elementos da matriz é: 38\n"
     ]
    }
   ],
   "source": [
    "# ex 10\n",
    "matriz = np.array([[4, 6, 8], [-4, 3, 2], [22, -15, 12]])\n",
    "\n",
    "soma_matriz = np.sum(matriz)\n",
    "\n",
    "print(\"A soma dos elementos da matriz é:\", soma_matriz)"
   ]
  },
  {
   "cell_type": "code",
   "execution_count": 27,
   "id": "f67583d5-f4f5-4178-ac22-ecf0569083e2",
   "metadata": {},
   "outputs": [
    {
     "name": "stdout",
     "output_type": "stream",
     "text": [
      "A média dos elementos da matriz é: 4.222222222222222\n"
     ]
    }
   ],
   "source": [
    "# ex 11\n",
    "matriz = np.array([[4, 6, 8], [-4, 3, 2], [22, -15, 12]])\n",
    "\n",
    "media_matriz = np.mean(matriz)\n",
    "\n",
    "print(\"A média dos elementos da matriz é:\", media_matriz)"
   ]
  },
  {
   "cell_type": "code",
   "execution_count": 33,
   "id": "0943b473-00e4-452b-8e66-59d292132915",
   "metadata": {},
   "outputs": [
    {
     "name": "stdout",
     "output_type": "stream",
     "text": [
      "O 4º elemento do array é: 8\n"
     ]
    }
   ],
   "source": [
    "# ex 12\n",
    "arr = np.array([13, -2, 6, 8, 23, 15, 3, 90, 4, 10, 56, 12])\n",
    "\n",
    "print(\"O 4º elemento do array é:\", arr[3])"
   ]
  },
  {
   "cell_type": "code",
   "execution_count": 38,
   "id": "a6b6c9c7-54ab-4ea9-8faa-01fefd2e70e6",
   "metadata": {},
   "outputs": [
    {
     "name": "stdout",
     "output_type": "stream",
     "text": [
      "Os 3 últimos elementos do array são: [10 56 12]\n"
     ]
    }
   ],
   "source": [
    "# EX 13 \n",
    "print(\"Os 3 últimos elementos do array são:\", arr[-3:])\n"
   ]
  },
  {
   "cell_type": "code",
   "execution_count": 39,
   "id": "d89addc6-9a15-4e08-a081-5830d56a847e",
   "metadata": {},
   "outputs": [
    {
     "name": "stdout",
     "output_type": "stream",
     "text": [
      "Elementos a partir da posição 2: [ 6  8 23 15  3 90  4 10 56 12]\n"
     ]
    }
   ],
   "source": [
    "# EX 14\n",
    "print(\"Elementos a partir da posição 2:\", arr[2:])"
   ]
  },
  {
   "cell_type": "code",
   "execution_count": 40,
   "id": "ff5b3f8c-049a-4a40-a838-301df3df82b5",
   "metadata": {},
   "outputs": [
    {
     "name": "stdout",
     "output_type": "stream",
     "text": [
      "Elementos entre o 2º e o 6º: [-2  6  8 23 15]\n"
     ]
    }
   ],
   "source": [
    "# ex 15\n",
    "print(\"Elementos entre o 2º e o 6º:\", arr[1:6])"
   ]
  },
  {
   "cell_type": "code",
   "execution_count": 41,
   "id": "a04baa6e-272a-4153-865d-ae07247a088e",
   "metadata": {},
   "outputs": [
    {
     "name": "stdout",
     "output_type": "stream",
     "text": [
      "Array [23, 15, 3, 90]: [23 15  3 90]\n"
     ]
    }
   ],
   "source": [
    "# ex 16\n",
    "print(\"Array [23, 15, 3, 90]:\", arr[4:8])"
   ]
  },
  {
   "cell_type": "code",
   "execution_count": 42,
   "id": "875902f5-0a41-4554-9056-c78cadedbb92",
   "metadata": {},
   "outputs": [
    {
     "name": "stdout",
     "output_type": "stream",
     "text": [
      "3ª linha da matriz: [19  4  8 15 13]\n"
     ]
    }
   ],
   "source": [
    "# ex 17\n",
    "matriz = np.array([\n",
    "    [1, 3, 16, -25, 14],\n",
    "    [2, 0, 10, 5, 17],\n",
    "    [19, 4, 8, 15, 13],\n",
    "    [7, 12, -5, 14, 0]\n",
    "])\n",
    "print(\"3ª linha da matriz:\", matriz[2])"
   ]
  },
  {
   "cell_type": "code",
   "execution_count": 43,
   "id": "749f10f7-a1e4-4829-b41e-238d066b39df",
   "metadata": {},
   "outputs": [
    {
     "name": "stdout",
     "output_type": "stream",
     "text": [
      "4ª coluna da matriz: [-25   5  15  14]\n"
     ]
    }
   ],
   "source": [
    "# ex 18\n",
    "print(\"4ª coluna da matriz:\", matriz[:, 3])\n"
   ]
  },
  {
   "cell_type": "code",
   "execution_count": 44,
   "id": "311a4179-6a59-4bc9-9fe8-c6faa803dc73",
   "metadata": {},
   "outputs": [
    {
     "name": "stdout",
     "output_type": "stream",
     "text": [
      "Elemento de valor 10: 10\n"
     ]
    }
   ],
   "source": [
    "# ex 19 \n",
    "print(\"Elemento de valor 10:\", matriz[1, 2])\n"
   ]
  },
  {
   "cell_type": "code",
   "execution_count": 45,
   "id": "8c831276-8ae2-4cd2-8b1e-9f7edb2c933c",
   "metadata": {},
   "outputs": [
    {
     "name": "stdout",
     "output_type": "stream",
     "text": [
      "Submatriz:\n",
      " [[ 0 10  5]\n",
      " [ 4  8 15]]\n"
     ]
    }
   ],
   "source": [
    "# ex 20\n",
    "submatriz = matriz[1:3, 1:4]\n",
    "print(\"Submatriz:\\n\", submatriz)"
   ]
  },
  {
   "cell_type": "code",
   "execution_count": 46,
   "id": "81bcd0c4-8c8f-4f4e-8266-6901491383e7",
   "metadata": {},
   "outputs": [
    {
     "name": "stdout",
     "output_type": "stream",
     "text": [
      "[[2 1 1 2]\n",
      " [1 2 2 1]\n",
      " [1 2 1 1]]\n"
     ]
    }
   ],
   "source": [
    "# ex 21\n",
    "\n",
    "matriz = np.array([\n",
    "    [2, -1, 15, 24],\n",
    "    [-3, 18, 4, 25],\n",
    "    [9, 10, -13, 7]\n",
    "])\n",
    "\n",
    "\n",
    "nova_matriz = np.where(matriz % 2 == 0, 2, 1)\n",
    "\n",
    "\n",
    "print(nova_matriz)\n"
   ]
  },
  {
   "cell_type": "code",
   "execution_count": null,
   "id": "eed0a409-08de-459d-9046-94e8bf5f3355",
   "metadata": {},
   "outputs": [],
   "source": []
  }
 ],
 "metadata": {
  "kernelspec": {
   "display_name": "Python 3 (ipykernel)",
   "language": "python",
   "name": "python3"
  },
  "language_info": {
   "codemirror_mode": {
    "name": "ipython",
    "version": 3
   },
   "file_extension": ".py",
   "mimetype": "text/x-python",
   "name": "python",
   "nbconvert_exporter": "python",
   "pygments_lexer": "ipython3",
   "version": "3.12.7"
  }
 },
 "nbformat": 4,
 "nbformat_minor": 5
}
